{
 "cells": [
  {
   "cell_type": "code",
   "execution_count": 3,
   "id": "d45ef7aa",
   "metadata": {},
   "outputs": [],
   "source": [
    "import pandas as pd\n",
    "import numpy as np\n"
   ]
  },
  {
   "cell_type": "code",
   "execution_count": 4,
   "id": "26ee35d6",
   "metadata": {},
   "outputs": [],
   "source": [
    "#Predicting what price competitors will put for a specific flight (top 10 competitors for example)"
   ]
  },
  {
   "cell_type": "code",
   "execution_count": 5,
   "id": "a9b275d0",
   "metadata": {},
   "outputs": [],
   "source": [
    "file = \"SkyScannerRedirrect_DataScienceBootCamp.csv\""
   ]
  },
  {
   "cell_type": "code",
   "execution_count": 6,
   "id": "c1f1159d",
   "metadata": {},
   "outputs": [],
   "source": [
    "df = pd.read_csv(file)"
   ]
  },
  {
   "cell_type": "code",
   "execution_count": 7,
   "id": "62cf62ac",
   "metadata": {},
   "outputs": [
    {
     "data": {
      "text/html": [
       "<div>\n",
       "<style scoped>\n",
       "    .dataframe tbody tr th:only-of-type {\n",
       "        vertical-align: middle;\n",
       "    }\n",
       "\n",
       "    .dataframe tbody tr th {\n",
       "        vertical-align: top;\n",
       "    }\n",
       "\n",
       "    .dataframe thead th {\n",
       "        text-align: right;\n",
       "    }\n",
       "</style>\n",
       "<table border=\"1\" class=\"dataframe\">\n",
       "  <thead>\n",
       "    <tr style=\"text-align: right;\">\n",
       "      <th></th>\n",
       "      <th>flightWeek</th>\n",
       "      <th>OriginAirport</th>\n",
       "      <th>DestinationAirport</th>\n",
       "      <th>OriginCountry</th>\n",
       "      <th>DestinationCountry</th>\n",
       "      <th>mainCarrier</th>\n",
       "      <th>isConnectingFlight</th>\n",
       "      <th>isEWRoute</th>\n",
       "      <th>Market</th>\n",
       "      <th>UserCountryCode</th>\n",
       "      <th>...</th>\n",
       "      <th>kind</th>\n",
       "      <th>TripLengthNights</th>\n",
       "      <th>TravelHorizonDays</th>\n",
       "      <th>RedirectsCount</th>\n",
       "      <th>Revenue</th>\n",
       "      <th>Segments</th>\n",
       "      <th>ODPax</th>\n",
       "      <th>TripPax</th>\n",
       "      <th>weekOfYear</th>\n",
       "      <th>Average_FlightFare</th>\n",
       "    </tr>\n",
       "  </thead>\n",
       "  <tbody>\n",
       "    <tr>\n",
       "      <th>15</th>\n",
       "      <td>2024-W23</td>\n",
       "      <td>DUS</td>\n",
       "      <td>LHR</td>\n",
       "      <td>DE</td>\n",
       "      <td>GB</td>\n",
       "      <td>EW</td>\n",
       "      <td>0</td>\n",
       "      <td>1</td>\n",
       "      <td>UK</td>\n",
       "      <td>GB</td>\n",
       "      <td>...</td>\n",
       "      <td>ONE_WAY</td>\n",
       "      <td>NaN</td>\n",
       "      <td>39</td>\n",
       "      <td>2</td>\n",
       "      <td>459.59</td>\n",
       "      <td>3</td>\n",
       "      <td>2</td>\n",
       "      <td>3</td>\n",
       "      <td>2024-W18</td>\n",
       "      <td>153.196667</td>\n",
       "    </tr>\n",
       "    <tr>\n",
       "      <th>38</th>\n",
       "      <td>2024-W22</td>\n",
       "      <td>STR</td>\n",
       "      <td>LHR</td>\n",
       "      <td>DE</td>\n",
       "      <td>GB</td>\n",
       "      <td>EW</td>\n",
       "      <td>0</td>\n",
       "      <td>1</td>\n",
       "      <td>DE</td>\n",
       "      <td>DE</td>\n",
       "      <td>...</td>\n",
       "      <td>RETURN</td>\n",
       "      <td>3.0</td>\n",
       "      <td>28</td>\n",
       "      <td>7</td>\n",
       "      <td>4408.41</td>\n",
       "      <td>26</td>\n",
       "      <td>14</td>\n",
       "      <td>13</td>\n",
       "      <td>2024-W18</td>\n",
       "      <td>169.554231</td>\n",
       "    </tr>\n",
       "    <tr>\n",
       "      <th>45</th>\n",
       "      <td>2024-W36</td>\n",
       "      <td>AGP</td>\n",
       "      <td>CGN</td>\n",
       "      <td>ES</td>\n",
       "      <td>DE</td>\n",
       "      <td>FR</td>\n",
       "      <td>0</td>\n",
       "      <td>1</td>\n",
       "      <td>DE</td>\n",
       "      <td>DE</td>\n",
       "      <td>...</td>\n",
       "      <td>ONE_WAY</td>\n",
       "      <td>NaN</td>\n",
       "      <td>127</td>\n",
       "      <td>4</td>\n",
       "      <td>583.66</td>\n",
       "      <td>8</td>\n",
       "      <td>4</td>\n",
       "      <td>8</td>\n",
       "      <td>2024-W18</td>\n",
       "      <td>72.957500</td>\n",
       "    </tr>\n",
       "    <tr>\n",
       "      <th>51</th>\n",
       "      <td>2024-W20</td>\n",
       "      <td>TFS</td>\n",
       "      <td>DUS</td>\n",
       "      <td>ES</td>\n",
       "      <td>DE</td>\n",
       "      <td>XR</td>\n",
       "      <td>0</td>\n",
       "      <td>1</td>\n",
       "      <td>ES</td>\n",
       "      <td>ES</td>\n",
       "      <td>...</td>\n",
       "      <td>ONE_WAY</td>\n",
       "      <td>NaN</td>\n",
       "      <td>14</td>\n",
       "      <td>1</td>\n",
       "      <td>94.72</td>\n",
       "      <td>1</td>\n",
       "      <td>1</td>\n",
       "      <td>1</td>\n",
       "      <td>2024-W18</td>\n",
       "      <td>94.720000</td>\n",
       "    </tr>\n",
       "    <tr>\n",
       "      <th>60</th>\n",
       "      <td>2024-W20</td>\n",
       "      <td>CGN</td>\n",
       "      <td>TIA</td>\n",
       "      <td>DE</td>\n",
       "      <td>AL</td>\n",
       "      <td>W4</td>\n",
       "      <td>0</td>\n",
       "      <td>1</td>\n",
       "      <td>DE</td>\n",
       "      <td>DE</td>\n",
       "      <td>...</td>\n",
       "      <td>RETURN</td>\n",
       "      <td>14.0</td>\n",
       "      <td>16</td>\n",
       "      <td>2</td>\n",
       "      <td>462.17</td>\n",
       "      <td>8</td>\n",
       "      <td>4</td>\n",
       "      <td>4</td>\n",
       "      <td>2024-W18</td>\n",
       "      <td>57.771250</td>\n",
       "    </tr>\n",
       "    <tr>\n",
       "      <th>...</th>\n",
       "      <td>...</td>\n",
       "      <td>...</td>\n",
       "      <td>...</td>\n",
       "      <td>...</td>\n",
       "      <td>...</td>\n",
       "      <td>...</td>\n",
       "      <td>...</td>\n",
       "      <td>...</td>\n",
       "      <td>...</td>\n",
       "      <td>...</td>\n",
       "      <td>...</td>\n",
       "      <td>...</td>\n",
       "      <td>...</td>\n",
       "      <td>...</td>\n",
       "      <td>...</td>\n",
       "      <td>...</td>\n",
       "      <td>...</td>\n",
       "      <td>...</td>\n",
       "      <td>...</td>\n",
       "      <td>...</td>\n",
       "      <td>...</td>\n",
       "    </tr>\n",
       "    <tr>\n",
       "      <th>1048510</th>\n",
       "      <td>2024-W18</td>\n",
       "      <td>FMM</td>\n",
       "      <td>PMI</td>\n",
       "      <td>DE</td>\n",
       "      <td>ES</td>\n",
       "      <td>FR</td>\n",
       "      <td>0</td>\n",
       "      <td>1</td>\n",
       "      <td>DE</td>\n",
       "      <td>DE</td>\n",
       "      <td>...</td>\n",
       "      <td>RETURN</td>\n",
       "      <td>7.0</td>\n",
       "      <td>1</td>\n",
       "      <td>2</td>\n",
       "      <td>372.89</td>\n",
       "      <td>4</td>\n",
       "      <td>4</td>\n",
       "      <td>2</td>\n",
       "      <td>2024-W18</td>\n",
       "      <td>93.222500</td>\n",
       "    </tr>\n",
       "    <tr>\n",
       "      <th>1048513</th>\n",
       "      <td>2024-W19</td>\n",
       "      <td>DUS</td>\n",
       "      <td>MUC</td>\n",
       "      <td>DE</td>\n",
       "      <td>DE</td>\n",
       "      <td>EW</td>\n",
       "      <td>0</td>\n",
       "      <td>1</td>\n",
       "      <td>DE</td>\n",
       "      <td>DE</td>\n",
       "      <td>...</td>\n",
       "      <td>RETURN</td>\n",
       "      <td>1.0</td>\n",
       "      <td>11</td>\n",
       "      <td>2</td>\n",
       "      <td>457.59</td>\n",
       "      <td>4</td>\n",
       "      <td>4</td>\n",
       "      <td>2</td>\n",
       "      <td>2024-W18</td>\n",
       "      <td>114.397500</td>\n",
       "    </tr>\n",
       "    <tr>\n",
       "      <th>1048524</th>\n",
       "      <td>2024-W34</td>\n",
       "      <td>VIE</td>\n",
       "      <td>HAM</td>\n",
       "      <td>AT</td>\n",
       "      <td>DE</td>\n",
       "      <td>EW</td>\n",
       "      <td>0</td>\n",
       "      <td>1</td>\n",
       "      <td>DE</td>\n",
       "      <td>DE</td>\n",
       "      <td>...</td>\n",
       "      <td>ONE_WAY</td>\n",
       "      <td>NaN</td>\n",
       "      <td>114</td>\n",
       "      <td>1</td>\n",
       "      <td>149.67</td>\n",
       "      <td>1</td>\n",
       "      <td>1</td>\n",
       "      <td>1</td>\n",
       "      <td>2024-W18</td>\n",
       "      <td>149.670000</td>\n",
       "    </tr>\n",
       "    <tr>\n",
       "      <th>1048535</th>\n",
       "      <td>2024-W19</td>\n",
       "      <td>HAM</td>\n",
       "      <td>MAN</td>\n",
       "      <td>DE</td>\n",
       "      <td>GB</td>\n",
       "      <td>EW</td>\n",
       "      <td>0</td>\n",
       "      <td>1</td>\n",
       "      <td>UK</td>\n",
       "      <td>GB</td>\n",
       "      <td>...</td>\n",
       "      <td>ONE_WAY</td>\n",
       "      <td>NaN</td>\n",
       "      <td>9</td>\n",
       "      <td>1</td>\n",
       "      <td>85.19</td>\n",
       "      <td>1</td>\n",
       "      <td>1</td>\n",
       "      <td>1</td>\n",
       "      <td>2024-W18</td>\n",
       "      <td>85.190000</td>\n",
       "    </tr>\n",
       "    <tr>\n",
       "      <th>1048557</th>\n",
       "      <td>2024-W20</td>\n",
       "      <td>AGP</td>\n",
       "      <td>PRG</td>\n",
       "      <td>ES</td>\n",
       "      <td>CZ</td>\n",
       "      <td>QS</td>\n",
       "      <td>0</td>\n",
       "      <td>1</td>\n",
       "      <td>ES</td>\n",
       "      <td>ES</td>\n",
       "      <td>...</td>\n",
       "      <td>RETURN</td>\n",
       "      <td>3.0</td>\n",
       "      <td>12</td>\n",
       "      <td>1</td>\n",
       "      <td>570.29</td>\n",
       "      <td>4</td>\n",
       "      <td>2</td>\n",
       "      <td>2</td>\n",
       "      <td>2024-W18</td>\n",
       "      <td>142.572500</td>\n",
       "    </tr>\n",
       "  </tbody>\n",
       "</table>\n",
       "<p>81520 rows × 21 columns</p>\n",
       "</div>"
      ],
      "text/plain": [
       "        flightWeek OriginAirport DestinationAirport OriginCountry  \\\n",
       "15        2024-W23           DUS                LHR            DE   \n",
       "38        2024-W22           STR                LHR            DE   \n",
       "45        2024-W36           AGP                CGN            ES   \n",
       "51        2024-W20           TFS                DUS            ES   \n",
       "60        2024-W20           CGN                TIA            DE   \n",
       "...            ...           ...                ...           ...   \n",
       "1048510   2024-W18           FMM                PMI            DE   \n",
       "1048513   2024-W19           DUS                MUC            DE   \n",
       "1048524   2024-W34           VIE                HAM            AT   \n",
       "1048535   2024-W19           HAM                MAN            DE   \n",
       "1048557   2024-W20           AGP                PRG            ES   \n",
       "\n",
       "        DestinationCountry mainCarrier  isConnectingFlight  isEWRoute Market  \\\n",
       "15                      GB          EW                   0          1     UK   \n",
       "38                      GB          EW                   0          1     DE   \n",
       "45                      DE          FR                   0          1     DE   \n",
       "51                      DE          XR                   0          1     ES   \n",
       "60                      AL          W4                   0          1     DE   \n",
       "...                    ...         ...                 ...        ...    ...   \n",
       "1048510                 ES          FR                   0          1     DE   \n",
       "1048513                 DE          EW                   0          1     DE   \n",
       "1048524                 DE          EW                   0          1     DE   \n",
       "1048535                 GB          EW                   0          1     UK   \n",
       "1048557                 CZ          QS                   0          1     ES   \n",
       "\n",
       "        UserCountryCode  ...     kind TripLengthNights  TravelHorizonDays  \\\n",
       "15                   GB  ...  ONE_WAY              NaN                 39   \n",
       "38                   DE  ...   RETURN              3.0                 28   \n",
       "45                   DE  ...  ONE_WAY              NaN                127   \n",
       "51                   ES  ...  ONE_WAY              NaN                 14   \n",
       "60                   DE  ...   RETURN             14.0                 16   \n",
       "...                 ...  ...      ...              ...                ...   \n",
       "1048510              DE  ...   RETURN              7.0                  1   \n",
       "1048513              DE  ...   RETURN              1.0                 11   \n",
       "1048524              DE  ...  ONE_WAY              NaN                114   \n",
       "1048535              GB  ...  ONE_WAY              NaN                  9   \n",
       "1048557              ES  ...   RETURN              3.0                 12   \n",
       "\n",
       "         RedirectsCount  Revenue  Segments  ODPax  TripPax  weekOfYear  \\\n",
       "15                    2   459.59         3      2        3    2024-W18   \n",
       "38                    7  4408.41        26     14       13    2024-W18   \n",
       "45                    4   583.66         8      4        8    2024-W18   \n",
       "51                    1    94.72         1      1        1    2024-W18   \n",
       "60                    2   462.17         8      4        4    2024-W18   \n",
       "...                 ...      ...       ...    ...      ...         ...   \n",
       "1048510               2   372.89         4      4        2    2024-W18   \n",
       "1048513               2   457.59         4      4        2    2024-W18   \n",
       "1048524               1   149.67         1      1        1    2024-W18   \n",
       "1048535               1    85.19         1      1        1    2024-W18   \n",
       "1048557               1   570.29         4      2        2    2024-W18   \n",
       "\n",
       "        Average_FlightFare  \n",
       "15              153.196667  \n",
       "38              169.554231  \n",
       "45               72.957500  \n",
       "51               94.720000  \n",
       "60               57.771250  \n",
       "...                    ...  \n",
       "1048510          93.222500  \n",
       "1048513         114.397500  \n",
       "1048524         149.670000  \n",
       "1048535          85.190000  \n",
       "1048557         142.572500  \n",
       "\n",
       "[81520 rows x 21 columns]"
      ]
     },
     "execution_count": 7,
     "metadata": {},
     "output_type": "execute_result"
    }
   ],
   "source": [
    "df[df[\"isEWRoute\"] == 1]\n",
    "#Flights that are eurowing flights"
   ]
  },
  {
   "cell_type": "code",
   "execution_count": 8,
   "id": "ce1fd873",
   "metadata": {},
   "outputs": [
    {
     "data": {
      "text/plain": [
       "252"
      ]
     },
     "execution_count": 8,
     "metadata": {},
     "output_type": "execute_result"
    }
   ],
   "source": [
    "df[\"mainCarrier\"].value_counts().count()\n",
    "#number of different airlines"
   ]
  },
  {
   "cell_type": "code",
   "execution_count": 9,
   "id": "9910a39e",
   "metadata": {},
   "outputs": [
    {
     "data": {
      "text/plain": [
       "FR     True\n",
       "U2     True\n",
       "VY     True\n",
       "PC     True\n",
       "W4     True\n",
       "      ...  \n",
       "BS    False\n",
       "BU    False\n",
       "6E    False\n",
       "UF    False\n",
       "N0    False\n",
       "Name: mainCarrier, Length: 252, dtype: bool"
      ]
     },
     "execution_count": 9,
     "metadata": {},
     "output_type": "execute_result"
    }
   ],
   "source": [
    "((df[\"mainCarrier\"].value_counts() > 10) == True)\n",
    "\n"
   ]
  },
  {
   "cell_type": "code",
   "execution_count": 10,
   "id": "5780d4eb",
   "metadata": {},
   "outputs": [
    {
     "data": {
      "text/plain": [
       "92"
      ]
     },
     "execution_count": 10,
     "metadata": {},
     "output_type": "execute_result"
    }
   ],
   "source": [
    "value_counts = df[\"mainCarrier\"].value_counts()\n",
    "\n",
    "# Filter to get only those counts greater than 10\n",
    "counts_greater_than_10 = value_counts > 1000\n",
    "\n",
    "# Sum the True values to get the count of mainCarriers with more than 10 occurrences\n",
    "count_of_mainCarriers_above_1000 = counts_greater_than_10.sum()\n",
    "count_of_mainCarriers_above_1000"
   ]
  },
  {
   "cell_type": "code",
   "execution_count": 11,
   "id": "57fce65c",
   "metadata": {},
   "outputs": [
    {
     "data": {
      "text/plain": [
       "92"
      ]
     },
     "execution_count": 11,
     "metadata": {},
     "output_type": "execute_result"
    }
   ],
   "source": [
    "count_of_mainCarriers_above_1000"
   ]
  },
  {
   "cell_type": "code",
   "execution_count": 12,
   "id": "08c43e40",
   "metadata": {},
   "outputs": [],
   "source": [
    "import seaborn as sns"
   ]
  },
  {
   "cell_type": "markdown",
   "id": "ce4ba05b",
   "metadata": {},
   "source": [
    "# Random fuckery"
   ]
  },
  {
   "cell_type": "code",
   "execution_count": 13,
   "id": "eeba4340",
   "metadata": {},
   "outputs": [],
   "source": [
    "correlation = df.corr()"
   ]
  },
  {
   "cell_type": "code",
   "execution_count": 14,
   "id": "29762e5c",
   "metadata": {},
   "outputs": [
    {
     "data": {
      "text/plain": [
       "<AxesSubplot:>"
      ]
     },
     "execution_count": 14,
     "metadata": {},
     "output_type": "execute_result"
    },
    {
     "data": {
      "image/png": "[encoded data removed]",
      "text/plain": [
       "<Figure size 640x480 with 2 Axes>"
      ]
     },
     "metadata": {},
     "output_type": "display_data"
    }
   ],
   "source": [
    "sns.heatmap(correlation, annot=True)"
   ]
  },
  {
   "cell_type": "code",
   "execution_count": 15,
   "id": "9568bb5e",
   "metadata": {},
   "outputs": [],
   "source": [
    "from sklearn.linear_model import LinearRegression"
   ]
  },
  {
   "cell_type": "code",
   "execution_count": 16,
   "id": "473d3de6",
   "metadata": {},
   "outputs": [],
   "source": [
    "from sklearn.ensemble import RandomForestRegressor"
   ]
  },
  {
   "cell_type": "code",
   "execution_count": 17,
   "id": "ec81183d",
   "metadata": {},
   "outputs": [],
   "source": [
    "from sklearn.preprocessing import StandardScaler"
   ]
  },
  {
   "cell_type": "code",
   "execution_count": 18,
   "id": "3fc27e18",
   "metadata": {},
   "outputs": [],
   "source": [
    "from sklearn.model_selection import train_test_split"
   ]
  },
  {
   "cell_type": "code",
   "execution_count": 19,
   "id": "70f6b911",
   "metadata": {},
   "outputs": [
    {
     "name": "stdout",
     "output_type": "stream",
     "text": [
      "<class 'pandas.core.frame.DataFrame'>\n",
      "RangeIndex: 1048575 entries, 0 to 1048574\n",
      "Data columns (total 21 columns):\n",
      " #   Column              Non-Null Count    Dtype  \n",
      "---  ------              --------------    -----  \n",
      " 0   flightWeek          1048575 non-null  object \n",
      " 1   OriginAirport       1048575 non-null  object \n",
      " 2   DestinationAirport  1048575 non-null  object \n",
      " 3   OriginCountry       1048575 non-null  object \n",
      " 4   DestinationCountry  1048575 non-null  object \n",
      " 5   mainCarrier         1048498 non-null  object \n",
      " 6   isConnectingFlight  1048575 non-null  int64  \n",
      " 7   isEWRoute           1048575 non-null  int64  \n",
      " 8   Market              1048567 non-null  object \n",
      " 9   UserCountryCode     1048106 non-null  object \n",
      " 10  cabinClass          1048575 non-null  object \n",
      " 11  kind                1048575 non-null  object \n",
      " 12  TripLengthNights    627923 non-null   float64\n",
      " 13  TravelHorizonDays   1048575 non-null  int64  \n",
      " 14  RedirectsCount      1048575 non-null  int64  \n",
      " 15  Revenue             1048575 non-null  float64\n",
      " 16  Segments            1048575 non-null  int64  \n",
      " 17  ODPax               1048575 non-null  int64  \n",
      " 18  TripPax             1048575 non-null  int64  \n",
      " 19  weekOfYear          1048575 non-null  object \n",
      " 20  Average_FlightFare  1048575 non-null  float64\n",
      "dtypes: float64(3), int64(7), object(11)\n",
      "memory usage: 168.0+ MB\n"
     ]
    }
   ],
   "source": [
    "df.info()"
   ]
  },
  {
   "cell_type": "code",
   "execution_count": 20,
   "id": "2d6bf507",
   "metadata": {},
   "outputs": [],
   "source": [
    "numeric_columns = df.dtypes[(df.dtypes == \"int64\") | (df.dtypes == \"float64\")].index\n"
   ]
  },
  {
   "cell_type": "code",
   "execution_count": null,
   "id": "90d7a94a",
   "metadata": {},
   "outputs": [],
   "source": []
  },
  {
   "cell_type": "code",
   "execution_count": 21,
   "id": "39d4c900",
   "metadata": {},
   "outputs": [
    {
     "data": {
      "text/plain": [
       "Index(['isConnectingFlight', 'isEWRoute', 'TripLengthNights',\n",
       "       'TravelHorizonDays', 'RedirectsCount', 'Revenue', 'Segments', 'ODPax',\n",
       "       'TripPax', 'Average_FlightFare'],\n",
       "      dtype='object')"
      ]
     },
     "execution_count": 21,
     "metadata": {},
     "output_type": "execute_result"
    }
   ],
   "source": [
    "numeric_columns"
   ]
  },
  {
   "cell_type": "code",
   "execution_count": 22,
   "id": "d79a50dd",
   "metadata": {},
   "outputs": [],
   "source": [
    "X = df[numeric_columns].drop(columns=[\"Average_FlightFare\", \"TripLengthNights\", \"RedirectsCount\", \"Segments\"]) \n",
    "y = df[\"Average_FlightFare\"]"
   ]
  },
  {
   "cell_type": "code",
   "execution_count": 23,
   "id": "6861b95e",
   "metadata": {},
   "outputs": [],
   "source": [
    "scaler = StandardScaler().set_output(transform=\"pandas\")\n",
    "X_scaled = scaler.fit_transform(X)"
   ]
  },
  {
   "cell_type": "code",
   "execution_count": null,
   "id": "06d604ec",
   "metadata": {},
   "outputs": [],
   "source": []
  },
  {
   "cell_type": "code",
   "execution_count": 24,
   "id": "ca771912",
   "metadata": {},
   "outputs": [],
   "source": [
    "X_train, X_test, y_train, y_test = train_test_split(X_scaled, y, train_size=0.7)"
   ]
  },
  {
   "cell_type": "code",
   "execution_count": null,
   "id": "c113d252",
   "metadata": {},
   "outputs": [],
   "source": [
    "model1 = RandomForestRegressor()\n",
    "model1.fit(X_train, y_train)"
   ]
  },
  {
   "cell_type": "code",
   "execution_count": null,
   "id": "87d4f702",
   "metadata": {},
   "outputs": [],
   "source": [
    "y_pred = model1.predict(X_test)"
   ]
  },
  {
   "cell_type": "code",
   "execution_count": null,
   "id": "5777a0cf",
   "metadata": {},
   "outputs": [],
   "source": [
    "from sklearn.metrics import r2_score"
   ]
  },
  {
   "cell_type": "code",
   "execution_count": null,
   "id": "6c961d95",
   "metadata": {},
   "outputs": [],
   "source": [
    "model1.score(X_test, y_test)"
   ]
  },
  {
   "cell_type": "code",
   "execution_count": null,
   "id": "b09fe6cc",
   "metadata": {},
   "outputs": [],
   "source": [
    "r2_score(y_test, y_pred)"
   ]
  },
  {
   "cell_type": "markdown",
   "id": "d185b3d3",
   "metadata": {},
   "source": [
    "# Preprocessing\n",
    "\n"
   ]
  },
  {
   "cell_type": "code",
   "execution_count": null,
   "id": "15861448",
   "metadata": {},
   "outputs": [],
   "source": [
    "df.info()"
   ]
  },
  {
   "cell_type": "code",
   "execution_count": null,
   "id": "306a4d09",
   "metadata": {},
   "outputs": [],
   "source": [
    "numeric_columns = df.dtypes[(df.dtypes == \"int64\") | (df.dtypes == \"float64\")].index\n"
   ]
  },
  {
   "cell_type": "code",
   "execution_count": null,
   "id": "3912b9ee",
   "metadata": {},
   "outputs": [],
   "source": [
    "string_columns = df."
   ]
  },
  {
   "cell_type": "markdown",
   "id": "95f867ea",
   "metadata": {},
   "source": [
    "# Nils Exploration"
   ]
  },
  {
   "cell_type": "code",
   "execution_count": null,
   "id": "1534a426",
   "metadata": {},
   "outputs": [],
   "source": [
    "df.head()"
   ]
  },
  {
   "cell_type": "code",
   "execution_count": null,
   "id": "62dd3dd1",
   "metadata": {},
   "outputs": [],
   "source": []
  }
 ],
 "metadata": {
  "kernelspec": {
   "display_name": "Python 3 (ipykernel)",
   "language": "python",
   "name": "python3"
  },
  "language_info": {
   "codemirror_mode": {
    "name": "ipython",
    "version": 3
   },
   "file_extension": ".py",
   "mimetype": "text/x-python",
   "name": "python",
   "nbconvert_exporter": "python",
   "pygments_lexer": "ipython3",
   "version": "3.10.6"
  },
  "toc": {
   "base_numbering": 1,
   "nav_menu": {},
   "number_sections": true,
   "sideBar": true,
   "skip_h1_title": false,
   "title_cell": "Table of Contents",
   "title_sidebar": "Contents",
   "toc_cell": false,
   "toc_position": {},
   "toc_section_display": true,
   "toc_window_display": false
  }
 },
 "nbformat": 4,
 "nbformat_minor": 5
}
